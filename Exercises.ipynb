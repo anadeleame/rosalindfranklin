{
  "nbformat": 4,
  "nbformat_minor": 0,
  "metadata": {
    "colab": {
      "provenance": [],
      "authorship_tag": "ABX9TyMf7D0pfs0Gd6dBc6GTVwVO",
      "include_colab_link": true
    },
    "kernelspec": {
      "name": "python3",
      "display_name": "Python 3"
    },
    "language_info": {
      "name": "python"
    }
  },
  "cells": [
    {
      "cell_type": "markdown",
      "metadata": {
        "id": "view-in-github",
        "colab_type": "text"
      },
      "source": [
        "<a href=\"https://colab.research.google.com/github/anadeleame/rosalindfranklin/blob/main/Exercises.ipynb\" target=\"_parent\"><img src=\"https://colab.research.google.com/assets/colab-badge.svg\" alt=\"Open In Colab\"/></a>"
      ]
    },
    {
      "cell_type": "markdown",
      "source": [
        "###Counting DNA nucleotides"
      ],
      "metadata": {
        "id": "33KF0yWfW-_l"
      }
    },
    {
      "cell_type": "code",
      "execution_count": null,
      "metadata": {
        "colab": {
          "base_uri": "https://localhost:8080/"
        },
        "id": "Gxdi6pM6MfaM",
        "outputId": "9dc5bafe-b0ab-4fb1-cbc0-12d40679e1cf"
      },
      "outputs": [
        {
          "output_type": "stream",
          "name": "stdout",
          "text": [
            "232 261 241 259\n"
          ]
        }
      ],
      "source": [
        "#A string is simply an ordered collection of symbols selected from some alphabet and formed into a word; the length of a string is the number of symbols that it contains.\n",
        "#An example of a length 21 DNA string (whose alphabet contains the symbols 'A', 'C', 'G', and 'T') is \"ATGCTTCAGAAAGGTCTTACG.\"\n",
        "\n",
        "#Given: A DNA string s of length at most 1000 nt.\n",
        "#Return: Four integers (separated by spaces) counting the respective number of times that the symbols 'A', 'C', 'G', and 'T' occur in s.\n",
        "\n",
        "s = \"CGTCAGCCACGTGGACCTTACCCGACCAATGGGGACTCTTCTTATAACCATTATGAGTCGAGATAAAGACGGCATGGATTCTACTGACGCCACAGTACAACGTCGCAACACCAAAGCAGCAGTTTTACCCATCTACGGAGAACCCCGAAGGGACGACAGTTAACTCCGGGTCGTTCCGTTAGCCAAGATGTACTCGGCGTGTTGCATGGCATGGCATCTTTGTTTCTAGAGCGAAGGAATGTAGGAATCATTCTGGACGTCCGGGCTTTGGAAGCTCTTTGTTACTCATTTATCTATCCATAACATCCTACACTACCGAAGGCTCCGTGCTCGAAGGCTGGTTGCGGGCCGCTAGCGTGGGTCCCACTTCGGACCAGGCGTTTGAAACGTGCCTCGCCAAACGAATTCAATGATAATTGTGGTCGGGTGCTTTGTTCACAAGGATAGGCTCATTTCATTGACTAGACTCCACTCGACTGTCGGTACAAGGAGTCAGCTATCCCTCGAATAGAGTGAGGAAGGACAGTGGTGTTCCCGCTGAGCAAAGCACATGGCCTATCTTCTAAATTTACACAATTTGGCATCTAGCTGCTAGGGGCGCCCTAACGTCACTAGTTACACTCTTGCTCCCTTGTTTTACTAACTAGTCGTTCGCGAGCCAAGAACACGGCCGACTATAAGGTGAGAAAGCTTTTGCTCGACATACTTCCTTCGGATCTGATAAATTCCCTTGCTCCGCAGAGTGACGGTCCCGTAGTGACGTATCCCTCACGCGTGGCAGCACGCTAAGTGATGCCGGCGCCCAAGACCGGAGCTTTCCCCTTGTTGTGTGAATCCCGCCCCTGGCGGAATTTTGCAAATTATATCCCTGGGTCTAGCGACTCCCTACTGACGATATTGTCCGAAGTTGTTTTTCTGAGAAATGACCGTGTATCGTGAAGTACTAATAGGCCTATTACGTTGCCACGCCGCAACGCAGTTTTCGCGCTTATA\"\n",
        "\n",
        "import collections; counts = collections.Counter(s)\n",
        "\n",
        "\n",
        "print(counts['A'],counts['C'],counts['G'],counts['T'])"
      ]
    },
    {
      "cell_type": "markdown",
      "source": [
        "###Transcribing DNA into RNA"
      ],
      "metadata": {
        "id": "HoCFcANjXGAs"
      }
    },
    {
      "cell_type": "code",
      "source": [
        "#An RNA string is a string formed from the alphabet containing 'A', 'C', 'G', and 'U'.\n",
        "\n",
        "#Given a DNA string t corresponding to a coding strand, its transcribed RNA string u is formed by replacing all occurrences of 'T' in t  with 'U' in u.\n",
        "\n",
        "#Given: A DNA string t  having length at most 1000 nt.\n",
        "#Return: The transcribed RNA string of t.\n",
        "\n",
        "DNAstrand = \"CTTTCTCGGCCAGGACGCAAGTGCCCCAGGGAAAGGTCTAGAACGAACTACAACGGCAGCATCTAGAATCCAAGTTTACGCGAGAGCTCGACGCCAACTATAACAAGGTAACAGCATCAAAGCTGGCACACCGCCATTTTTGATTCCTGTTATAGGTCAGACGTTACGCGAAGTACGAGATCACCTGCGTACCTGGGGATAACACGATACGTCACATTGGTAACGCAAAGTAAGAGCAGTGCTAGCGTGTGCCTTCGCATTCGCGAAGTCCAAGTGAGACTGCCGAGTGGTCGGTCGACATCATGCAAGTGAATCATTCTCTTCGTTAGAGGAGACTGGATGAACAGACCAAGTCACTGTTGATTTGGGTTAAGTGATTACGCTGGGCTAGTAAACTTGCCCTGGTACCTCCCGGGAATTCTATGGTAATGAGCGGTTCCTAGGGATTCTAGCTTTCCACTGGGAGGGCTTGTGCATTAATTAAAGTTGCCGCCAATACGTCTCGGAATTCCACCCAAAGTTATTGGGCCATGAGTACATTAGACGGACTTTGAACCTGCGGGACACTGATAGGGAATTATTGTAGGGGTGGGGACATATCACGTAGCATGACGCCGCAACCCGCGGGACTTTCTTGGTTTTAGTAGTTGCTTCCAAGTAACGAAGTGACTCCCGTGGTTAGTCAAGGTAGACGCGCACCGCGAATCTCACGGGAAGGGATCAGGTCCTAATCTTCGCTACGTTTTAGAATAGGTTTGGACAACGCGAGATGACCTGAGCGACCATTTAGGTCAGATGTGACGCTGCCGCGAAGGCAACACGACCCATCTCCCTGCATGTTGATAAATTACCGCACAAGCGAAATGATGAAATTACAGAAAATTATCGATCGGAGGATCCGTGGTCCTTTATCCATCCAAGAGTCCCCGAAC\"\n",
        "RNAstrand = fitadeDNA.replace(\"T\", \"U\")\n",
        "\n",
        "print(fitadeRNA)\n"
      ],
      "metadata": {
        "colab": {
          "base_uri": "https://localhost:8080/"
        },
        "id": "DaITGVeKTons",
        "outputId": "5271b801-70aa-4034-befa-2d830abef03e"
      },
      "execution_count": null,
      "outputs": [
        {
          "output_type": "stream",
          "name": "stdout",
          "text": [
            "CUUUCUCGGCCAGGACGCAAGUGCCCCAGGGAAAGGUCUAGAACGAACUACAACGGCAGCAUCUAGAAUCCAAGUUUACGCGAGAGCUCGACGCCAACUAUAACAAGGUAACAGCAUCAAAGCUGGCACACCGCCAUUUUUGAUUCCUGUUAUAGGUCAGACGUUACGCGAAGUACGAGAUCACCUGCGUACCUGGGGAUAACACGAUACGUCACAUUGGUAACGCAAAGUAAGAGCAGUGCUAGCGUGUGCCUUCGCAUUCGCGAAGUCCAAGUGAGACUGCCGAGUGGUCGGUCGACAUCAUGCAAGUGAAUCAUUCUCUUCGUUAGAGGAGACUGGAUGAACAGACCAAGUCACUGUUGAUUUGGGUUAAGUGAUUACGCUGGGCUAGUAAACUUGCCCUGGUACCUCCCGGGAAUUCUAUGGUAAUGAGCGGUUCCUAGGGAUUCUAGCUUUCCACUGGGAGGGCUUGUGCAUUAAUUAAAGUUGCCGCCAAUACGUCUCGGAAUUCCACCCAAAGUUAUUGGGCCAUGAGUACAUUAGACGGACUUUGAACCUGCGGGACACUGAUAGGGAAUUAUUGUAGGGGUGGGGACAUAUCACGUAGCAUGACGCCGCAACCCGCGGGACUUUCUUGGUUUUAGUAGUUGCUUCCAAGUAACGAAGUGACUCCCGUGGUUAGUCAAGGUAGACGCGCACCGCGAAUCUCACGGGAAGGGAUCAGGUCCUAAUCUUCGCUACGUUUUAGAAUAGGUUUGGACAACGCGAGAUGACCUGAGCGACCAUUUAGGUCAGAUGUGACGCUGCCGCGAAGGCAACACGACCCAUCUCCCUGCAUGUUGAUAAAUUACCGCACAAGCGAAAUGAUGAAAUUACAGAAAAUUAUCGAUCGGAGGAUCCGUGGUCCUUUAUCCAUCCAAGAGUCCCCGAAC\n"
          ]
        }
      ]
    },
    {
      "cell_type": "markdown",
      "source": [
        "###Complementing a strand of DNA"
      ],
      "metadata": {
        "id": "4TLfuxSojbEo"
      }
    },
    {
      "cell_type": "code",
      "source": [
        "#In DNA strings, symbols 'A' and 'T' are complements of each other, as are 'C' and 'G'.\n",
        "\n",
        "#he reverse complement of a DNA string s is the string sc formed by reversing the symbols of s, then taking the complement of each symbol (e.g., the reverse complement of \"GTCA\" is \"TGAC\").\n",
        "\n",
        "#Given: A DNA string s of length at most 1000 bp.\n",
        "#Return: The reverse complement sc of s.\n",
        "\n",
        "original = \"TAACACGGATTCAAATAGTCCGTCTAGGTAGCAGGCCAATTCCGGTTACACCCTCGTGTGTGAAACCGCGACTGTCTGTCCACCACGGCCGGATACGTGGTACAGATGTAAGTCTAATATTGTTAGAGGTCATTGAGTGGTCGTAAGCACTCAACAAGCTGAGTTCCCGCTGTATCATGCGGACGGGGGCAGTGCCCCGCTGTGCATTTGCAACCGTACTCCGTAGCTCACTATTATGTTGATGGGCGAATGTGCGTTTCTAGACGCCCACTTAGATGTCTGGCGCTGTTAGTTAAAGTGTCGTTCCCATCCTAAATCAGATGGTTTCAACCGTCAGGAAGTGTCTTTTTATCCCTAGACAGGAGCAGCAGCGGCTGCCCGTAAATCTAGTCAAAAGGCGGGCTTGCACGGCGCTGATCTAGTAGCCCCTGTGCGTTCGAGACTAGGACTAGTATTAAAAAAACCTGGTATATTTCCGCAGTACTAGTAGCATCGGCATTTTTCCGTACACTACCTAGCCACTAGAGGATCCGTCCTTGTGAGAAGACGGCTCGAAACCTAGTCAGGACAGCTGACGGCAGTGAGAGCAGCGGCGGTATGTGTAACACTCGTCTAACAAGTTTACTAGTGCGTTCCATGTATCTTCTGCAATTGCCGCGCATGATAACACCAGACTCACGATCACTAATGCACTCTGGTCAAGACGGCAAGACGGGCTGCCAGTCACAATGTGATATACTCGACGTCGTCATCGGCGTTTCAGTGGAAGTCCGTGGTCGTGAGAGATGTTTTCCAGACGGGCGAACACGGATCAATATGGACATTGGGAGACACACCCTAAATTATAGGCCTGTTTTCTTTTGACGTCGGGGTAGTTAGCAGATGTTTCTATTAACTCGCGTCACCACACGCCTGAGTCACAGCCAGA\"\n",
        "reverse = original[::-1]\n",
        "\n",
        "correct = reverse.replace(\"A\", \"t\").replace(\"T\", \"a\").replace(\"G\", \"c\").replace(\"C\", \"g\").upper()\n",
        "print(correct)\n"
      ],
      "metadata": {
        "colab": {
          "base_uri": "https://localhost:8080/"
        },
        "id": "i96OH5EOg5wi",
        "outputId": "0f839dcb-9986-492a-e430-6c19148340a1"
      },
      "execution_count": null,
      "outputs": [
        {
          "output_type": "stream",
          "name": "stdout",
          "text": [
            "TCTGGCTGTGACTCAGGCGTGTGGTGACGCGAGTTAATAGAAACATCTGCTAACTACCCCGACGTCAAAAGAAAACAGGCCTATAATTTAGGGTGTGTCTCCCAATGTCCATATTGATCCGTGTTCGCCCGTCTGGAAAACATCTCTCACGACCACGGACTTCCACTGAAACGCCGATGACGACGTCGAGTATATCACATTGTGACTGGCAGCCCGTCTTGCCGTCTTGACCAGAGTGCATTAGTGATCGTGAGTCTGGTGTTATCATGCGCGGCAATTGCAGAAGATACATGGAACGCACTAGTAAACTTGTTAGACGAGTGTTACACATACCGCCGCTGCTCTCACTGCCGTCAGCTGTCCTGACTAGGTTTCGAGCCGTCTTCTCACAAGGACGGATCCTCTAGTGGCTAGGTAGTGTACGGAAAAATGCCGATGCTACTAGTACTGCGGAAATATACCAGGTTTTTTTAATACTAGTCCTAGTCTCGAACGCACAGGGGCTACTAGATCAGCGCCGTGCAAGCCCGCCTTTTGACTAGATTTACGGGCAGCCGCTGCTGCTCCTGTCTAGGGATAAAAAGACACTTCCTGACGGTTGAAACCATCTGATTTAGGATGGGAACGACACTTTAACTAACAGCGCCAGACATCTAAGTGGGCGTCTAGAAACGCACATTCGCCCATCAACATAATAGTGAGCTACGGAGTACGGTTGCAAATGCACAGCGGGGCACTGCCCCCGTCCGCATGATACAGCGGGAACTCAGCTTGTTGAGTGCTTACGACCACTCAATGACCTCTAACAATATTAGACTTACATCTGTACCACGTATCCGGCCGTGGTGGACAGACAGTCGCGGTTTCACACACGAGGGTGTAACCGGAATTGGCCTGCTACCTAGACGGACTATTTGAATCCGTGTTA\n"
          ]
        }
      ]
    },
    {
      "cell_type": "markdown",
      "source": [
        "###Computing GC content"
      ],
      "metadata": {
        "id": "xfwXIkJyjh59"
      }
    },
    {
      "cell_type": "code",
      "source": [
        "#The GC-content of a DNA string is given by the percentage of symbols in the string that are 'C' or 'G'. For example, the GC-content of \"AGCTATAG\" is 37.5%. Note that the reverse complement of any DNA string has the same GC-content.\n",
        "\n",
        "#DNA strings must be labeled when they are consolidated into a database. A commonly used method of string labeling is called FASTA format. In this format, the string is introduced by a line that begins with '>', followed by some labeling information. Subsequent lines contain the string itself; the first line to begin with '>' indicates the label of the next string.\n",
        "\n",
        "#In Rosalind's implementation, a string in FASTA format will be labeled by the ID \"Rosalind_xxxx\", where \"xxxx\" denotes a four-digit code between 0000 and 9999.\n",
        "\n",
        "#Given: At most 10 DNA strings in FASTA format (of length at most 1 kbp each).\n",
        "\n",
        "#Return: The ID of the string having the highest GC-content, followed by the GC-content of that string. Rosalind allows for a default error of 0.001 in all decimal answers unless otherwise stated; please see the note on absolute error below.\n",
        "\n",
        "gclist = list()\n",
        "n = 0\n",
        "\n",
        "\n",
        "from Bio import SeqIO\n",
        "from Bio.SeqUtils import gc_fraction\n",
        "\n",
        "with open('rosa.txt', 'r') as fasta:\n",
        "  for seq_record in SeqIO.parse(\"rosa.txt\", \"fasta\"):\n",
        "    gclist.append(gc_fraction(seq_record))\n",
        "  majorgc = gclist.index(max(gclist))\n",
        "  for seq in fasta:\n",
        "    if n != majorgc:\n",
        "      n = n + 1\n",
        "    else:\n",
        "      if seq.startswith('>'):\n",
        "        print(f'{seq}{max(gclist)} ')\n",
        "        break"
      ],
      "metadata": {
        "colab": {
          "base_uri": "https://localhost:8080/"
        },
        "id": "Ye-eWa9vN_v3",
        "outputId": "c375cd94-ce70-46c4-bb70-b9104db9a3f7"
      },
      "execution_count": null,
      "outputs": [
        {
          "output_type": "stream",
          "name": "stdout",
          "text": [
            ">Rosalind_0760\n",
            "0.509698275862069 \n"
          ]
        }
      ]
    },
    {
      "cell_type": "code",
      "source": [
        "gclist = list()\n",
        "fastas = list()\n",
        "n = 0\n",
        "\n",
        "from Bio import SeqIO\n",
        "from Bio.SeqUtils import gc_fraction\n",
        "\n",
        "with open('teste.txt', 'r') as fasta:\n",
        "  for seq_record in SeqIO.parse(\"teste.txt\", \"fasta\"):\n",
        "    gclist.append(gc_fraction(seq_record))\n",
        "  majorgc = max(gclist) * 100\n",
        "  print(fastas[])"
      ],
      "metadata": {
        "colab": {
          "base_uri": "https://localhost:8080/"
        },
        "id": "9hVpTKhD-jfC",
        "outputId": "478aa9ca-0959-45fd-82c4-3519a8828529"
      },
      "execution_count": null,
      "outputs": [
        {
          "output_type": "stream",
          "name": "stdout",
          "text": [
            "['>Rosalind_6404\\n', '>Rosalind_5959\\n', '>Rosalind_0808\\n']\n"
          ]
        }
      ]
    }
  ]
}